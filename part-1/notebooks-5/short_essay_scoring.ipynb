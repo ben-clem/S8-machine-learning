{
 "cells": [
  {
   "cell_type": "markdown",
   "metadata": {},
   "source": [
    "# Short Essay Scoring\n",
    "For these last session we are going to focus on scoring elementary reading comprehension exercices."
   ]
  },
  {
   "cell_type": "code",
   "execution_count": 1,
   "metadata": {},
   "outputs": [],
   "source": [
    "#First, let's import the nesseacary libraries\n",
    "import warnings\n",
    "warnings.filterwarnings('ignore')\n",
    "import pandas as pd\n",
    "import numpy as np\n",
    "import matplotlib.pyplot as plt"
   ]
  },
  {
   "cell_type": "markdown",
   "metadata": {},
   "source": [
    "## 1. Import the data and print some statistics \n",
    "more information about the data set can be found in:  https://archive.ics.uci.edu/ml/datasets/Bike+Sharing+Dataset"
   ]
  },
  {
   "cell_type": "code",
   "execution_count": 2,
   "metadata": {},
   "outputs": [
    {
     "name": "stdout",
     "output_type": "stream",
     "text": [
      "the data frame has a shape : (1500, 6)\n",
      "let's print the first five rows \n",
      "    Unnamed: 0                                             answer  \\\n",
      "0           0  Destiny would be a good friend beacu like to r...   \n",
      "1           1  I think Mr.Popper would disagree because he wa...   \n",
      "2           2  i think that it has made me a better person be...   \n",
      "3           3  A part that I could not stop reading was when ...   \n",
      "4           4       its not as good as the any of the other ones   \n",
      "\n",
      "                                       question_text  \\\n",
      "0  Would you enjoy being friends with the main ch...   \n",
      "1  Which character do you think would disagree wi...   \n",
      "2  Do you think reading this text has made you a ...   \n",
      "3  Tell us about one part of this book that total...   \n",
      "4  Does this book remind you of the last book you...   \n",
      "\n",
      "                      text_id  grade  score  \n",
      "0   AUTJfAnEIe5XGTq1jvkynEr-Q      3      7  \n",
      "1  BASEvlmqaEWAE9oL3mOT2KG9JQ      3      9  \n",
      "2  BASEAOH8j3w9WsZOxNQ9dzAUFQ      5      8  \n",
      "3   AUToHuz362h0RJY-hPa7O6MDw      3      9  \n",
      "4  BASEasfHPZhAW77njjMyzqLqOw      1      3  \n"
     ]
    }
   ],
   "source": [
    "df = pd.read_csv(\"short_essay_scoring.csv\")\n",
    "print ('the data frame has a shape :', df.shape)\n",
    "print ('let\\'s print the first five rows \\n', df.head())"
   ]
  },
  {
   "cell_type": "code",
   "execution_count": 3,
   "metadata": {},
   "outputs": [
    {
     "name": "stdout",
     "output_type": "stream",
     "text": [
      "<class 'pandas.core.frame.DataFrame'>\n",
      "RangeIndex: 1500 entries, 0 to 1499\n",
      "Data columns (total 6 columns):\n",
      " #   Column         Non-Null Count  Dtype \n",
      "---  ------         --------------  ----- \n",
      " 0   Unnamed: 0     1500 non-null   int64 \n",
      " 1   answer         1500 non-null   object\n",
      " 2   question_text  1500 non-null   object\n",
      " 3   text_id        1500 non-null   object\n",
      " 4   grade          1500 non-null   int64 \n",
      " 5   score          1500 non-null   int64 \n",
      "dtypes: int64(3), object(3)\n",
      "memory usage: 70.4+ KB\n",
      "None\n",
      "        Unnamed: 0        grade        score\n",
      "count  1500.000000  1500.000000  1500.000000\n",
      "mean    749.500000     3.453333     6.930667\n",
      "std     433.157015     2.343107     2.794590\n",
      "min       0.000000    -1.000000     0.000000\n",
      "25%     374.750000     2.000000     6.000000\n",
      "50%     749.500000     3.000000     8.000000\n",
      "75%    1124.250000     5.000000     9.000000\n",
      "max    1499.000000     8.000000    10.000000\n"
     ]
    }
   ],
   "source": [
    "print (df.info())\n",
    "print (df.describe())"
   ]
  },
  {
   "cell_type": "markdown",
   "metadata": {},
   "source": [
    "## 2. A little bit about processing text data (NLP)\n",
    "https://www.nltk.org"
   ]
  },
  {
   "cell_type": "code",
   "execution_count": 4,
   "metadata": {},
   "outputs": [
    {
     "name": "stderr",
     "output_type": "stream",
     "text": [
      "[nltk_data] Downloading package punkt to /Users/benzinho/nltk_data...\n",
      "[nltk_data]   Package punkt is already up-to-date!\n",
      "[nltk_data] Downloading package averaged_perceptron_tagger to\n",
      "[nltk_data]     /Users/benzinho/nltk_data...\n",
      "[nltk_data]   Package averaged_perceptron_tagger is already up-to-\n",
      "[nltk_data]       date!\n",
      "[nltk_data] Downloading package stopwords to\n",
      "[nltk_data]     /Users/benzinho/nltk_data...\n",
      "[nltk_data]   Package stopwords is already up-to-date!\n"
     ]
    },
    {
     "data": {
      "text/plain": [
       "True"
      ]
     },
     "execution_count": 4,
     "metadata": {},
     "output_type": "execute_result"
    }
   ],
   "source": [
    "#nltk sentence tokenizer, word tokenizer, pos tagger, lemmatizer, ngrams\n",
    "import nltk\n",
    "nltk.download('punkt')\n",
    "nltk.download('averaged_perceptron_tagger')\n",
    "nltk.download('stopwords')"
   ]
  },
  {
   "cell_type": "code",
   "execution_count": 5,
   "metadata": {},
   "outputs": [
    {
     "name": "stdout",
     "output_type": "stream",
     "text": [
      "['This', 'is', 'a', 'sentence.this', \"we'll\", 'do']\n",
      "['This', 'is', 'a', 'sentence.this', 'we', \"'ll\", 'do']\n"
     ]
    }
   ],
   "source": [
    "# WORD TOKENIZER\n",
    "from nltk.tokenize import word_tokenize\n",
    "\n",
    "sentence = \"This is a sentence.this we'll do\"\n",
    "tokens = word_tokenize(sentence)\n",
    "\n",
    "print(sentence.split())\n",
    "print(tokens)"
   ]
  },
  {
   "cell_type": "code",
   "execution_count": 6,
   "metadata": {},
   "outputs": [
    {
     "name": "stdout",
     "output_type": "stream",
     "text": [
      "['These are multiple sentences.', 'I know it is MR. sentence man.', 'Do you understand?', 'I do!', 'It is true.', 'Harry said \"I like Quidditch\"']\n"
     ]
    }
   ],
   "source": [
    "# SENT TOKENIZER\n",
    "from nltk.tokenize import sent_tokenize\n",
    "\n",
    "sentences = 'These are multiple sentences. I know it is MR. sentence man. Do you understand? I do! It is true. Harry said \"I like Quidditch\"'\n",
    "sents = sent_tokenize(sentences)\n",
    "\n",
    "print(sents)"
   ]
  },
  {
   "cell_type": "code",
   "execution_count": 7,
   "metadata": {},
   "outputs": [
    {
     "data": {
      "text/plain": [
       "[('This', 'DT'),\n",
       " ('is', 'VBZ'),\n",
       " ('a', 'DT'),\n",
       " ('sentence.this', 'NN'),\n",
       " ('we', 'PRP'),\n",
       " (\"'ll\", 'MD'),\n",
       " ('do', 'VB')]"
      ]
     },
     "execution_count": 7,
     "metadata": {},
     "output_type": "execute_result"
    }
   ],
   "source": [
    "# PART OF SPEECH TAGGING\n",
    "tagged = nltk.pos_tag(tokens)\n",
    "tagged"
   ]
  },
  {
   "cell_type": "code",
   "execution_count": 8,
   "metadata": {},
   "outputs": [
    {
     "name": "stdout",
     "output_type": "stream",
     "text": [
      "['i', 'me', 'my', 'myself', 'we', 'our', 'ours', 'ourselves', 'you', \"you're\", \"you've\", \"you'll\", \"you'd\", 'your', 'yours', 'yourself', 'yourselves', 'he', 'him', 'his', 'himself', 'she', \"she's\", 'her', 'hers', 'herself', 'it', \"it's\", 'its', 'itself', 'they', 'them', 'their', 'theirs', 'themselves', 'what', 'which', 'who', 'whom', 'this', 'that', \"that'll\", 'these', 'those', 'am', 'is', 'are', 'was', 'were', 'be', 'been', 'being', 'have', 'has', 'had', 'having', 'do', 'does', 'did', 'doing', 'a', 'an', 'the', 'and', 'but', 'if', 'or', 'because', 'as', 'until', 'while', 'of', 'at', 'by', 'for', 'with', 'about', 'against', 'between', 'into', 'through', 'during', 'before', 'after', 'above', 'below', 'to', 'from', 'up', 'down', 'in', 'out', 'on', 'off', 'over', 'under', 'again', 'further', 'then', 'once', 'here', 'there', 'when', 'where', 'why', 'how', 'all', 'any', 'both', 'each', 'few', 'more', 'most', 'other', 'some', 'such', 'no', 'nor', 'not', 'only', 'own', 'same', 'so', 'than', 'too', 'very', 's', 't', 'can', 'will', 'just', 'don', \"don't\", 'should', \"should've\", 'now', 'd', 'll', 'm', 'o', 're', 've', 'y', 'ain', 'aren', \"aren't\", 'couldn', \"couldn't\", 'didn', \"didn't\", 'doesn', \"doesn't\", 'hadn', \"hadn't\", 'hasn', \"hasn't\", 'haven', \"haven't\", 'isn', \"isn't\", 'ma', 'mightn', \"mightn't\", 'mustn', \"mustn't\", 'needn', \"needn't\", 'shan', \"shan't\", 'shouldn', \"shouldn't\", 'wasn', \"wasn't\", 'weren', \"weren't\", 'won', \"won't\", 'wouldn', \"wouldn't\"]\n"
     ]
    }
   ],
   "source": [
    "# STOPWORDS\n",
    "from nltk.corpus import stopwords \n",
    "print(stopwords.words('english'))"
   ]
  },
  {
   "cell_type": "code",
   "execution_count": 9,
   "metadata": {},
   "outputs": [
    {
     "name": "stdout",
     "output_type": "stream",
     "text": [
      "[('This', 'is'), ('is', 'a'), ('a', 'sentence.this'), ('sentence.this', 'we'), ('we', \"'ll\"), (\"'ll\", 'do')]\n",
      "[('This', 'is', 'a', 'sentence.this'), ('is', 'a', 'sentence.this', 'we'), ('a', 'sentence.this', 'we', \"'ll\"), ('sentence.this', 'we', \"'ll\", 'do')]\n",
      "======================================\n",
      "[('Who', 'is', 'the'), ('is', 'the', 'main'), ('the', 'main', 'character'), ('main', 'character', '?')]\n",
      "[('The', 'main', 'character'), ('main', 'character', 'is'), ('character', 'is', 'Harry'), ('is', 'Harry', 'Potter'), ('Harry', 'Potter', '.'), ('Potter', '.', 'He'), ('.', 'He', 'is'), ('He', 'is', 'an'), ('is', 'an', 'orphan'), ('an', 'orphan', '.')]\n"
     ]
    }
   ],
   "source": [
    "# NGRAMS\n",
    "from nltk import ngrams\n",
    "\n",
    "n = 2\n",
    "bigrams = ngrams(tokens, n)\n",
    "print([gram for gram in bigrams])\n",
    "\n",
    "n = 4\n",
    "quadgrams = ngrams(tokens, n)\n",
    "print([gram for gram in quadgrams])\n",
    "\n",
    "question = \"Who is the main character?\"\n",
    "answer = \"The main character is Harry Potter. He is an orphan.\"\n",
    "\n",
    "n = 3\n",
    "trigram_question = ngrams(word_tokenize(question), n)\n",
    "trigram_answer = ngrams(word_tokenize(answer), n)\n",
    "print(\"======================================\")\n",
    "print([gram for gram in trigram_question])\n",
    "print([gram for gram in trigram_answer])"
   ]
  },
  {
   "cell_type": "code",
   "execution_count": 10,
   "metadata": {},
   "outputs": [
    {
     "name": "stdout",
     "output_type": "stream",
     "text": [
      "ROW 0 - Add one potatoe and tomato to the pan\n",
      "('add', 0.5189666820949349)\n",
      "('pan', 0.6432458258552362)\n",
      "('potatoe', 0.43078922631751043)\n",
      "('tomato', 0.36239347798208316)\n",
      "ROW 1 - peel the potatoe and mix with the tomato\n",
      "('mix', 0.6012854497921586)\n",
      "('peel', 0.6012854497921586)\n",
      "('potatoe', 0.40268787343866097)\n",
      "('tomato', 0.338753734033932)\n",
      "ROW 2 - Bake tomato in a pot for 350 degrees\n",
      "('350', 0.4893109154841178)\n",
      "('bake', 0.406172261115514)\n",
      "('degrees', 0.4893109154841178)\n",
      "('pot', 0.4893109154841178)\n",
      "('tomato', 0.3416849107944251)\n",
      "ROW 3 - Bake potatoe in a pot for 350 degrees\n",
      "('350', 0.47792215686353867)\n",
      "('bake', 0.39671856267176947)\n",
      "('degrees', 0.47792215686353867)\n",
      "('pot', 0.47792215686353867)\n",
      "('potatoe', 0.39671856267176947)\n",
      "ROW 4 - Bake cookies with the tomato and add a tomato on the computer\n",
      "('add', 0.385984634633335)\n",
      "('bake', 0.3204021141644773)\n",
      "('computer', 0.4784180056991261)\n",
      "('cookies', 0.4784180056991261)\n",
      "('tomato', 0.5390647184815994)\n"
     ]
    }
   ],
   "source": [
    "# TFIDF Term Frequency Inverse Document Frequency TF / DF\n",
    "from sklearn.feature_extraction.text import TfidfVectorizer\n",
    "corpus = [\"Add one potatoe and tomato to the pan\",\n",
    "\"peel the potatoe and mix with the tomato\",\n",
    "\"Bake tomato in a pot for 350 degrees\",\n",
    "\"Bake potatoe in a pot for 350 degrees\",\n",
    "\"Bake cookies with the tomato and add a tomato on the computer\"]\n",
    "\n",
    "vectorizer = TfidfVectorizer(stop_words=\"english\")\n",
    "X = vectorizer.fit_transform(corpus)\n",
    "\n",
    "for r in range(len(corpus)):\n",
    "    print(\"ROW \" + str(r) + \" - \" + corpus[r])\n",
    "    for z in zip(vectorizer.get_feature_names(), X[r,:].toarray()[0]):\n",
    "        if z[1] > 0:\n",
    "            print(z)\n",
    "#print(X[0,:].toarray()[0])"
   ]
  },
  {
   "cell_type": "code",
   "execution_count": 11,
   "metadata": {},
   "outputs": [
    {
     "name": "stdout",
     "output_type": "stream",
     "text": [
      "4889\n",
      "ROW 0 - my favorite character was Mr. Robot because he is involved in a lor of shenanigans.\n",
      "('character', 0.28315590918029804)\n",
      "('favorite', 0.3643658344593652)\n",
      "('involved', 0.5861439619560898)\n",
      "('mr', 0.46100353187270615)\n",
      "('robot', 0.4805947037143858)\n"
     ]
    }
   ],
   "source": [
    "vectorizer = TfidfVectorizer(stop_words=\"english\")\n",
    "X_answer = vectorizer.fit(df['answer'])\n",
    "print(len(X_answer.get_feature_names()))\n",
    "corpus = [\"my favorite character was Mr. Robot because he is involved in a lor of shenanigans.\"]\n",
    "\n",
    "result = vectorizer.transform(corpus)\n",
    "for r in range(len(corpus)):\n",
    "    print(\"ROW \" + str(r) + \" - \" + corpus[r])\n",
    "    for z in zip(vectorizer.get_feature_names(), result[r,:].toarray()[0]):\n",
    "        if z[1] > 0:\n",
    "            print(z)"
   ]
  },
  {
   "cell_type": "markdown",
   "metadata": {},
   "source": [
    "### (Pre-processing)"
   ]
  },
  {
   "cell_type": "code",
   "execution_count": 12,
   "metadata": {},
   "outputs": [
    {
     "data": {
      "text/html": [
       "<div>\n",
       "<style scoped>\n",
       "    .dataframe tbody tr th:only-of-type {\n",
       "        vertical-align: middle;\n",
       "    }\n",
       "\n",
       "    .dataframe tbody tr th {\n",
       "        vertical-align: top;\n",
       "    }\n",
       "\n",
       "    .dataframe thead th {\n",
       "        text-align: right;\n",
       "    }\n",
       "</style>\n",
       "<table border=\"1\" class=\"dataframe\">\n",
       "  <thead>\n",
       "    <tr style=\"text-align: right;\">\n",
       "      <th></th>\n",
       "      <th>Unnamed: 0</th>\n",
       "      <th>answer</th>\n",
       "      <th>question_text</th>\n",
       "      <th>text_id</th>\n",
       "      <th>grade</th>\n",
       "      <th>score</th>\n",
       "    </tr>\n",
       "  </thead>\n",
       "  <tbody>\n",
       "    <tr>\n",
       "      <th>0</th>\n",
       "      <td>0</td>\n",
       "      <td>destiny would be a good friend beacu like to r...</td>\n",
       "      <td>Would you enjoy being friends with the main ch...</td>\n",
       "      <td>AUTJfAnEIe5XGTq1jvkynEr-Q</td>\n",
       "      <td>3</td>\n",
       "      <td>7</td>\n",
       "    </tr>\n",
       "    <tr>\n",
       "      <th>1</th>\n",
       "      <td>1</td>\n",
       "      <td>i think mr.popper would disagree because he wa...</td>\n",
       "      <td>Which character do you think would disagree wi...</td>\n",
       "      <td>BASEvlmqaEWAE9oL3mOT2KG9JQ</td>\n",
       "      <td>3</td>\n",
       "      <td>9</td>\n",
       "    </tr>\n",
       "    <tr>\n",
       "      <th>2</th>\n",
       "      <td>2</td>\n",
       "      <td>i think that it has made me a better person be...</td>\n",
       "      <td>Do you think reading this text has made you a ...</td>\n",
       "      <td>BASEAOH8j3w9WsZOxNQ9dzAUFQ</td>\n",
       "      <td>5</td>\n",
       "      <td>8</td>\n",
       "    </tr>\n",
       "    <tr>\n",
       "      <th>3</th>\n",
       "      <td>3</td>\n",
       "      <td>a part that i could not stop reading was when ...</td>\n",
       "      <td>Tell us about one part of this book that total...</td>\n",
       "      <td>AUToHuz362h0RJY-hPa7O6MDw</td>\n",
       "      <td>3</td>\n",
       "      <td>9</td>\n",
       "    </tr>\n",
       "    <tr>\n",
       "      <th>4</th>\n",
       "      <td>4</td>\n",
       "      <td>its not as good as the any of the other one</td>\n",
       "      <td>Does this book remind you of the last book you...</td>\n",
       "      <td>BASEasfHPZhAW77njjMyzqLqOw</td>\n",
       "      <td>1</td>\n",
       "      <td>3</td>\n",
       "    </tr>\n",
       "  </tbody>\n",
       "</table>\n",
       "</div>"
      ],
      "text/plain": [
       "   Unnamed: 0                                             answer  \\\n",
       "0           0  destiny would be a good friend beacu like to r...   \n",
       "1           1  i think mr.popper would disagree because he wa...   \n",
       "2           2  i think that it has made me a better person be...   \n",
       "3           3  a part that i could not stop reading was when ...   \n",
       "4           4        its not as good as the any of the other one   \n",
       "\n",
       "                                       question_text  \\\n",
       "0  Would you enjoy being friends with the main ch...   \n",
       "1  Which character do you think would disagree wi...   \n",
       "2  Do you think reading this text has made you a ...   \n",
       "3  Tell us about one part of this book that total...   \n",
       "4  Does this book remind you of the last book you...   \n",
       "\n",
       "                      text_id  grade  score  \n",
       "0   AUTJfAnEIe5XGTq1jvkynEr-Q      3      7  \n",
       "1  BASEvlmqaEWAE9oL3mOT2KG9JQ      3      9  \n",
       "2  BASEAOH8j3w9WsZOxNQ9dzAUFQ      5      8  \n",
       "3   AUToHuz362h0RJY-hPa7O6MDw      3      9  \n",
       "4  BASEasfHPZhAW77njjMyzqLqOw      1      3  "
      ]
     },
     "execution_count": 12,
     "metadata": {},
     "output_type": "execute_result"
    }
   ],
   "source": [
    "from nltk.stem.lancaster import LancasterStemmer\n",
    "st = LancasterStemmer()\n",
    "\n",
    "stemmed = [st.stem(answer) for answer in df.answer]\n",
    "df.answer = stemmed\n",
    "\n",
    "df.head()"
   ]
  },
  {
   "cell_type": "markdown",
   "metadata": {},
   "source": [
    "## 3. Looking at length\n",
    "Here we are going to create a new feature called length and visualize it's relationship with our target"
   ]
  },
  {
   "cell_type": "code",
   "execution_count": 13,
   "metadata": {},
   "outputs": [],
   "source": [
    "df['length'] = [len(answer) for answer in df.answer]"
   ]
  },
  {
   "cell_type": "code",
   "execution_count": 14,
   "metadata": {},
   "outputs": [
    {
     "data": {
      "text/plain": [
       "Text(0.5, 1.0, 'Char Length vs. Score')"
      ]
     },
     "execution_count": 14,
     "metadata": {},
     "output_type": "execute_result"
    },
    {
     "data": {
      "image/png": "[encoded data removed]",
      "text/plain": [
       "<Figure size 432x288 with 1 Axes>"
      ]
     },
     "metadata": {
      "needs_background": "light"
     },
     "output_type": "display_data"
    }
   ],
   "source": [
    "fig = plt.figure(figsize=(6, 4))\n",
    "fig.clf()\n",
    "ax = fig.gca()\n",
    "df.plot(kind = 'scatter', x = 'length', y = 'score', ax = ax, alpha = 0.05)\n",
    "ax.set_xlabel('Char Length')\n",
    "ax.set_ylabel('Score')\n",
    "ax.set_title('Char Length vs. Score')"
   ]
  },
  {
   "cell_type": "code",
   "execution_count": 15,
   "metadata": {},
   "outputs": [
    {
     "name": "stdout",
     "output_type": "stream",
     "text": [
      "train shape (1050, 1) (1050,)\n",
      "test shape (450, 1) (450,)\n"
     ]
    }
   ],
   "source": [
    "from sklearn.model_selection import train_test_split\n",
    "# your code here\n",
    "X_train, X_test, y_train, y_test = train_test_split(np.array(df['length']).reshape(-1,1), df[\"score\"], test_size=0.3, random_state=1)\n",
    "\n",
    "print (\"train shape\", X_train.shape, y_train.shape)\n",
    "print (\"test shape\", X_test.shape, y_test.shape)"
   ]
  },
  {
   "cell_type": "code",
   "execution_count": 16,
   "metadata": {},
   "outputs": [
    {
     "name": "stdout",
     "output_type": "stream",
     "text": [
      "train score = 0.07711915752233411\n",
      "test score = 0.021734497392087326\n"
     ]
    }
   ],
   "source": [
    "from sklearn.model_selection import cross_val_score\n",
    "from sklearn.linear_model import LinearRegression\n",
    "reg = LinearRegression()\n",
    "reg.fit(X_train, y_train)\n",
    "\n",
    "train_score = reg.score(X_train, y_train)\n",
    "test_score = reg.score(X_test, y_test)\n",
    "print  ('train score =' , train_score)\n",
    "print  ('test score = {}'.format(test_score))"
   ]
  },
  {
   "cell_type": "markdown",
   "metadata": {},
   "source": [
    "## 4. Feature Engineering\n",
    "Create at least 3 different features"
   ]
  },
  {
   "cell_type": "code",
   "execution_count": 17,
   "metadata": {},
   "outputs": [],
   "source": [
    "###Number of sentences\n",
    "from nltk.tokenize import sent_tokenize\n",
    "df[\"nb_sentence\"]=0 \n",
    "\n",
    "for i in range(1500):\n",
    "    sents = sent_tokenize(df.iloc[i].answer)\n",
    "    df.iloc[i,-1] = len(sents)\n"
   ]
  },
  {
   "cell_type": "code",
   "execution_count": 18,
   "metadata": {},
   "outputs": [],
   "source": [
    "# number of words\n",
    "from nltk.tokenize import RegexpTokenizer\n",
    "\n",
    "df[\"nb_words\"]=0\n",
    "tokenizer = RegexpTokenizer(r'\\w+')\n",
    "\n",
    "for i in range(1500):\n",
    "    tokens = tokenizer.tokenize(df.iloc[i].answer)\n",
    "    df.iloc[i,-1] = len(tokens)\n",
    "    "
   ]
  },
  {
   "cell_type": "code",
   "execution_count": 19,
   "metadata": {},
   "outputs": [],
   "source": [
    "## lexical richness\n",
    "\n",
    "df[\"richness\"]=0\n",
    "\n",
    "for i in range(1500):\n",
    "    answer = df.iloc[i].answer\n",
    "    richness = len(set(answer)) / len(answer)\n",
    "    df.iloc[i,-1] = richness\n",
    "\n"
   ]
  },
  {
   "cell_type": "code",
   "execution_count": 20,
   "metadata": {},
   "outputs": [],
   "source": [
    "## vocab_size\n",
    "\n",
    "df[\"vocab_size\"]=0\n",
    "\n",
    "for i in range(1500):\n",
    "    answer = df.iloc[i].answer\n",
    "    vocab_size = len(set(answer))\n",
    "    df.iloc[i,-1] = vocab_size\n",
    "\n"
   ]
  },
  {
   "cell_type": "code",
   "execution_count": 21,
   "metadata": {},
   "outputs": [],
   "source": [
    "## mots en commun entre la question et la réponse.\n",
    "\n",
    "from nltk.corpus import stopwords \n",
    "from nltk.tokenize import word_tokenize  \n",
    "  \n",
    "stop_words = set(stopwords.words('english'))  \n",
    "df[\"wordcommun\"]=0\n",
    "\n",
    "for i in range(len(df)):\n",
    "    question = df.question_text[i]\n",
    "    answer= df.answer[i]\n",
    "    \n",
    "    word_tokens_q = word_tokenize(question)  \n",
    "    word_tokens_a = word_tokenize(answer)  \n",
    "    \n",
    "    filtered_question = [w for w in word_tokens_q if not w in stop_words]  \n",
    "    filtered_question = []  \n",
    "  \n",
    "    for w in word_tokens_q:  \n",
    "        if w not in stop_words:  \n",
    "            filtered_question.append(w) \n",
    "            \n",
    "    filtered_answer = [w for w in word_tokens_a if not w in stop_words]  \n",
    "    filtered_answer = []  \n",
    "  \n",
    "    for w in word_tokens_a:  \n",
    "        if w not in stop_words:  \n",
    "            filtered_answer.append(w) \n",
    "    \n",
    "    a=0\n",
    "    for s in filtered_answer:\n",
    "        if s in filtered_question:\n",
    "            a=a+1\n",
    "    df.wordcommun[i]=a\n"
   ]
  },
  {
   "cell_type": "markdown",
   "metadata": {},
   "source": [
    "## 5. Visualize the data\n",
    "Create at least 3 graphs visualizing your features with respect to the target"
   ]
  },
  {
   "cell_type": "code",
   "execution_count": 22,
   "metadata": {},
   "outputs": [
    {
     "data": {
      "text/html": [
       "<div>\n",
       "<style scoped>\n",
       "    .dataframe tbody tr th:only-of-type {\n",
       "        vertical-align: middle;\n",
       "    }\n",
       "\n",
       "    .dataframe tbody tr th {\n",
       "        vertical-align: top;\n",
       "    }\n",
       "\n",
       "    .dataframe thead th {\n",
       "        text-align: right;\n",
       "    }\n",
       "</style>\n",
       "<table border=\"1\" class=\"dataframe\">\n",
       "  <thead>\n",
       "    <tr style=\"text-align: right;\">\n",
       "      <th></th>\n",
       "      <th>Unnamed: 0</th>\n",
       "      <th>grade</th>\n",
       "      <th>score</th>\n",
       "      <th>length</th>\n",
       "      <th>nb_sentence</th>\n",
       "      <th>nb_words</th>\n",
       "      <th>richness</th>\n",
       "      <th>vocab_size</th>\n",
       "      <th>wordcommun</th>\n",
       "    </tr>\n",
       "  </thead>\n",
       "  <tbody>\n",
       "    <tr>\n",
       "      <th>count</th>\n",
       "      <td>1500.000000</td>\n",
       "      <td>1500.000000</td>\n",
       "      <td>1500.000000</td>\n",
       "      <td>1500.000000</td>\n",
       "      <td>1500.000000</td>\n",
       "      <td>1500.000000</td>\n",
       "      <td>1500.000000</td>\n",
       "      <td>1500.000000</td>\n",
       "      <td>1500.000000</td>\n",
       "    </tr>\n",
       "    <tr>\n",
       "      <th>mean</th>\n",
       "      <td>749.500000</td>\n",
       "      <td>3.453333</td>\n",
       "      <td>6.930667</td>\n",
       "      <td>187.592667</td>\n",
       "      <td>1.905333</td>\n",
       "      <td>35.708667</td>\n",
       "      <td>0.182209</td>\n",
       "      <td>21.854667</td>\n",
       "      <td>3.166667</td>\n",
       "    </tr>\n",
       "    <tr>\n",
       "      <th>std</th>\n",
       "      <td>433.157015</td>\n",
       "      <td>2.343107</td>\n",
       "      <td>2.794590</td>\n",
       "      <td>134.593654</td>\n",
       "      <td>1.546383</td>\n",
       "      <td>26.241472</td>\n",
       "      <td>0.145342</td>\n",
       "      <td>5.326956</td>\n",
       "      <td>3.575763</td>\n",
       "    </tr>\n",
       "    <tr>\n",
       "      <th>min</th>\n",
       "      <td>0.000000</td>\n",
       "      <td>-1.000000</td>\n",
       "      <td>0.000000</td>\n",
       "      <td>2.000000</td>\n",
       "      <td>1.000000</td>\n",
       "      <td>1.000000</td>\n",
       "      <td>0.003135</td>\n",
       "      <td>1.000000</td>\n",
       "      <td>0.000000</td>\n",
       "    </tr>\n",
       "    <tr>\n",
       "      <th>25%</th>\n",
       "      <td>374.750000</td>\n",
       "      <td>2.000000</td>\n",
       "      <td>6.000000</td>\n",
       "      <td>97.000000</td>\n",
       "      <td>1.000000</td>\n",
       "      <td>18.000000</td>\n",
       "      <td>0.092587</td>\n",
       "      <td>21.000000</td>\n",
       "      <td>1.000000</td>\n",
       "    </tr>\n",
       "    <tr>\n",
       "      <th>50%</th>\n",
       "      <td>749.500000</td>\n",
       "      <td>3.000000</td>\n",
       "      <td>8.000000</td>\n",
       "      <td>148.000000</td>\n",
       "      <td>1.000000</td>\n",
       "      <td>29.000000</td>\n",
       "      <td>0.151707</td>\n",
       "      <td>23.000000</td>\n",
       "      <td>2.000000</td>\n",
       "    </tr>\n",
       "    <tr>\n",
       "      <th>75%</th>\n",
       "      <td>1124.250000</td>\n",
       "      <td>5.000000</td>\n",
       "      <td>9.000000</td>\n",
       "      <td>248.000000</td>\n",
       "      <td>2.000000</td>\n",
       "      <td>46.000000</td>\n",
       "      <td>0.216981</td>\n",
       "      <td>25.000000</td>\n",
       "      <td>4.000000</td>\n",
       "    </tr>\n",
       "    <tr>\n",
       "      <th>max</th>\n",
       "      <td>1499.000000</td>\n",
       "      <td>8.000000</td>\n",
       "      <td>10.000000</td>\n",
       "      <td>942.000000</td>\n",
       "      <td>15.000000</td>\n",
       "      <td>170.000000</td>\n",
       "      <td>1.000000</td>\n",
       "      <td>35.000000</td>\n",
       "      <td>24.000000</td>\n",
       "    </tr>\n",
       "  </tbody>\n",
       "</table>\n",
       "</div>"
      ],
      "text/plain": [
       "        Unnamed: 0        grade        score       length  nb_sentence  \\\n",
       "count  1500.000000  1500.000000  1500.000000  1500.000000  1500.000000   \n",
       "mean    749.500000     3.453333     6.930667   187.592667     1.905333   \n",
       "std     433.157015     2.343107     2.794590   134.593654     1.546383   \n",
       "min       0.000000    -1.000000     0.000000     2.000000     1.000000   \n",
       "25%     374.750000     2.000000     6.000000    97.000000     1.000000   \n",
       "50%     749.500000     3.000000     8.000000   148.000000     1.000000   \n",
       "75%    1124.250000     5.000000     9.000000   248.000000     2.000000   \n",
       "max    1499.000000     8.000000    10.000000   942.000000    15.000000   \n",
       "\n",
       "          nb_words     richness   vocab_size   wordcommun  \n",
       "count  1500.000000  1500.000000  1500.000000  1500.000000  \n",
       "mean     35.708667     0.182209    21.854667     3.166667  \n",
       "std      26.241472     0.145342     5.326956     3.575763  \n",
       "min       1.000000     0.003135     1.000000     0.000000  \n",
       "25%      18.000000     0.092587    21.000000     1.000000  \n",
       "50%      29.000000     0.151707    23.000000     2.000000  \n",
       "75%      46.000000     0.216981    25.000000     4.000000  \n",
       "max     170.000000     1.000000    35.000000    24.000000  "
      ]
     },
     "execution_count": 22,
     "metadata": {},
     "output_type": "execute_result"
    }
   ],
   "source": [
    "df.describe()"
   ]
  },
  {
   "cell_type": "code",
   "execution_count": 23,
   "metadata": {},
   "outputs": [
    {
     "data": {
      "text/plain": [
       "Text(0.5, 1.0, 'Nb Sentence vs. Score')"
      ]
     },
     "execution_count": 23,
     "metadata": {},
     "output_type": "execute_result"
    },
    {
     "data": {
      "image/png": "[encoded data removed]",
      "text/plain": [
       "<Figure size 432x288 with 1 Axes>"
      ]
     },
     "metadata": {
      "needs_background": "light"
     },
     "output_type": "display_data"
    }
   ],
   "source": [
    "fig = plt.figure(figsize=(6, 4))\n",
    "fig.clf()\n",
    "ax = fig.gca()\n",
    "df.plot(kind = 'scatter', x = 'nb_sentence', y = 'score', ax = ax, alpha = 0.5)\n",
    "ax.set_xlabel('Nb Sentence')\n",
    "ax.set_ylabel('Score')\n",
    "ax.set_title('Nb Sentence vs. Score')\n"
   ]
  },
  {
   "cell_type": "code",
   "execution_count": 24,
   "metadata": {},
   "outputs": [
    {
     "data": {
      "text/plain": [
       "Text(0.5, 1.0, 'nb_words VS score')"
      ]
     },
     "execution_count": 24,
     "metadata": {},
     "output_type": "execute_result"
    },
    {
     "data": {
      "image/png": "[encoded data removed]",
      "text/plain": [
       "<Figure size 432x288 with 1 Axes>"
      ]
     },
     "metadata": {
      "needs_background": "light"
     },
     "output_type": "display_data"
    }
   ],
   "source": [
    "fig = plt.figure(figsize=(6, 4))\n",
    "fig.clf()\n",
    "ax = fig.gca()\n",
    "df.plot(kind = 'scatter', x = 'nb_words', y = 'score', ax = ax, alpha = 0.5)\n",
    "ax.set_xlabel('nb_words')\n",
    "ax.set_ylabel('score')\n",
    "ax.set_title('nb_words VS score')\n"
   ]
  },
  {
   "cell_type": "code",
   "execution_count": 25,
   "metadata": {},
   "outputs": [
    {
     "data": {
      "text/plain": [
       "Text(0.5, 1.0, 'richness VS score')"
      ]
     },
     "execution_count": 25,
     "metadata": {},
     "output_type": "execute_result"
    },
    {
     "data": {
      "image/png": "[encoded data removed]",
      "text/plain": [
       "<Figure size 432x288 with 1 Axes>"
      ]
     },
     "metadata": {
      "needs_background": "light"
     },
     "output_type": "display_data"
    }
   ],
   "source": [
    "fig = plt.figure(figsize=(6, 4))\n",
    "fig.clf()\n",
    "ax = fig.gca()\n",
    "df.plot(kind = 'scatter', x = 'richness', y = 'score', ax = ax, alpha = 0.5)\n",
    "ax.set_xlabel('richness')\n",
    "ax.set_ylabel('score')\n",
    "ax.set_title('richness VS score')\n"
   ]
  },
  {
   "cell_type": "code",
   "execution_count": 26,
   "metadata": {},
   "outputs": [
    {
     "data": {
      "text/plain": [
       "Text(0.5, 1.0, 'vocab_size VS score')"
      ]
     },
     "execution_count": 26,
     "metadata": {},
     "output_type": "execute_result"
    },
    {
     "data": {
      "image/png": "[encoded data removed]",
      "text/plain": [
       "<Figure size 432x288 with 1 Axes>"
      ]
     },
     "metadata": {
      "needs_background": "light"
     },
     "output_type": "display_data"
    }
   ],
   "source": [
    "fig = plt.figure(figsize=(6, 4))\n",
    "fig.clf()\n",
    "ax = fig.gca()\n",
    "df.plot(kind = 'scatter', x = 'vocab_size', y = 'score', ax = ax, alpha = 0.5)\n",
    "ax.set_xlabel('vocab_size')\n",
    "ax.set_ylabel('score')\n",
    "ax.set_title('vocab_size VS score')\n"
   ]
  },
  {
   "cell_type": "code",
   "execution_count": 27,
   "metadata": {},
   "outputs": [
    {
     "data": {
      "text/plain": [
       "Text(0.5, 1.0, 'wordcommun VS score')"
      ]
     },
     "execution_count": 27,
     "metadata": {},
     "output_type": "execute_result"
    },
    {
     "data": {
      "image/png": "[encoded data removed]",
      "text/plain": [
       "<Figure size 432x288 with 1 Axes>"
      ]
     },
     "metadata": {
      "needs_background": "light"
     },
     "output_type": "display_data"
    }
   ],
   "source": [
    "fig = plt.figure(figsize=(6, 4))\n",
    "fig.clf()\n",
    "ax = fig.gca()\n",
    "df.plot(kind = 'scatter', x = 'wordcommun', y = 'score', ax = ax, alpha = 0.5)\n",
    "ax.set_xlabel('wordcommun')\n",
    "ax.set_ylabel('score')\n",
    "ax.set_title('wordcommun VS score')\n"
   ]
  },
  {
   "cell_type": "markdown",
   "metadata": {},
   "source": [
    "## 6. Model Training\n",
    "Pick a model, fit your features and print performance metrics"
   ]
  },
  {
   "cell_type": "markdown",
   "metadata": {},
   "source": [
    "### Logisitic Regression"
   ]
  },
  {
   "cell_type": "code",
   "execution_count": 40,
   "metadata": {},
   "outputs": [
    {
     "data": {
      "text/plain": [
       "LogisticRegression(random_state=1)"
      ]
     },
     "execution_count": 40,
     "metadata": {},
     "output_type": "execute_result"
    }
   ],
   "source": [
    "from sklearn.linear_model import LogisticRegression\n",
    "\n",
    "#features = [\"grade\"] #0,19\n",
    "#features = [\"length\"] #0,22\n",
    "#features = [\"nb_sentence\"] #0,22\n",
    "#features = [\"nb_words\"] #0,25\n",
    "#features = [\"richness\"] #0,17\n",
    "#features = [\"vocab_size\"] #0,25\n",
    "#features = [\"wordcommun\"] #0,24\n",
    "\n",
    "#features = [\"nb_words\", \"vocab_size\"] #0,23\n",
    "#features = [\"nb_words\", \"vocab_size\", \"wordcommun\"] #0,24\n",
    "#features = [\"grade\", \"nb_words\", \"vocab_size\", \"wordcommun\"] #0,32\n",
    "#features = [\"grade\", \"nb_words\", \"wordcommun\"] #0,32\n",
    "\n",
    "features = [\"grade\", \"length\", \"nb_sentence\", \"nb_words\", \"richness\", \"vocab_size\", \"wordcommun\"] #0,33\n",
    "\n",
    "\n",
    "X_train, X_test, y_train, y_test = train_test_split(df[features], df[\"score\"], test_size=0.3, random_state=1)\n",
    "\n",
    "reg = LogisticRegression(random_state=1)\n",
    "reg.fit(X_train, y_train)\n"
   ]
  },
  {
   "cell_type": "code",
   "execution_count": 41,
   "metadata": {},
   "outputs": [
    {
     "name": "stdout",
     "output_type": "stream",
     "text": [
      "train score = 0.37047619047619046\n",
      "test score = 0.3288888888888889\n"
     ]
    }
   ],
   "source": [
    "train_score = reg.score(X_train, y_train)\n",
    "test_score = reg.score(X_test, y_test)\n",
    "print  ('train score =' , train_score)\n",
    "print  ('test score = {}'.format(test_score))\n"
   ]
  },
  {
   "cell_type": "markdown",
   "metadata": {},
   "source": [
    "### Random Forest Classifier w/ Grid Search"
   ]
  },
  {
   "cell_type": "code",
   "execution_count": 30,
   "metadata": {},
   "outputs": [
    {
     "data": {
      "text/html": [
       "<div>\n",
       "<style scoped>\n",
       "    .dataframe tbody tr th:only-of-type {\n",
       "        vertical-align: middle;\n",
       "    }\n",
       "\n",
       "    .dataframe tbody tr th {\n",
       "        vertical-align: top;\n",
       "    }\n",
       "\n",
       "    .dataframe thead th {\n",
       "        text-align: right;\n",
       "    }\n",
       "</style>\n",
       "<table border=\"1\" class=\"dataframe\">\n",
       "  <thead>\n",
       "    <tr style=\"text-align: right;\">\n",
       "      <th></th>\n",
       "      <th>Unnamed: 0</th>\n",
       "      <th>answer</th>\n",
       "      <th>question_text</th>\n",
       "      <th>text_id</th>\n",
       "      <th>grade</th>\n",
       "      <th>score</th>\n",
       "      <th>length</th>\n",
       "      <th>nb_sentence</th>\n",
       "      <th>nb_words</th>\n",
       "      <th>richness</th>\n",
       "      <th>vocab_size</th>\n",
       "      <th>wordcommun</th>\n",
       "    </tr>\n",
       "  </thead>\n",
       "  <tbody>\n",
       "    <tr>\n",
       "      <th>0</th>\n",
       "      <td>0</td>\n",
       "      <td>destiny would be a good friend beacu like to r...</td>\n",
       "      <td>Would you enjoy being friends with the main ch...</td>\n",
       "      <td>AUTJfAnEIe5XGTq1jvkynEr-Q</td>\n",
       "      <td>3</td>\n",
       "      <td>7</td>\n",
       "      <td>103</td>\n",
       "      <td>1</td>\n",
       "      <td>21</td>\n",
       "      <td>0.213592</td>\n",
       "      <td>22</td>\n",
       "      <td>0</td>\n",
       "    </tr>\n",
       "    <tr>\n",
       "      <th>1</th>\n",
       "      <td>1</td>\n",
       "      <td>i think mr.popper would disagree because he wa...</td>\n",
       "      <td>Which character do you think would disagree wi...</td>\n",
       "      <td>BASEvlmqaEWAE9oL3mOT2KG9JQ</td>\n",
       "      <td>3</td>\n",
       "      <td>9</td>\n",
       "      <td>215</td>\n",
       "      <td>2</td>\n",
       "      <td>42</td>\n",
       "      <td>0.120930</td>\n",
       "      <td>26</td>\n",
       "      <td>4</td>\n",
       "    </tr>\n",
       "    <tr>\n",
       "      <th>2</th>\n",
       "      <td>2</td>\n",
       "      <td>i think that it has made me a better person be...</td>\n",
       "      <td>Do you think reading this text has made you a ...</td>\n",
       "      <td>BASEAOH8j3w9WsZOxNQ9dzAUFQ</td>\n",
       "      <td>5</td>\n",
       "      <td>8</td>\n",
       "      <td>149</td>\n",
       "      <td>1</td>\n",
       "      <td>31</td>\n",
       "      <td>0.140940</td>\n",
       "      <td>21</td>\n",
       "      <td>5</td>\n",
       "    </tr>\n",
       "    <tr>\n",
       "      <th>3</th>\n",
       "      <td>3</td>\n",
       "      <td>a part that i could not stop reading was when ...</td>\n",
       "      <td>Tell us about one part of this book that total...</td>\n",
       "      <td>AUToHuz362h0RJY-hPa7O6MDw</td>\n",
       "      <td>3</td>\n",
       "      <td>9</td>\n",
       "      <td>146</td>\n",
       "      <td>1</td>\n",
       "      <td>30</td>\n",
       "      <td>0.150685</td>\n",
       "      <td>22</td>\n",
       "      <td>5</td>\n",
       "    </tr>\n",
       "    <tr>\n",
       "      <th>4</th>\n",
       "      <td>4</td>\n",
       "      <td>its not as good as the any of the other one</td>\n",
       "      <td>Does this book remind you of the last book you...</td>\n",
       "      <td>BASEasfHPZhAW77njjMyzqLqOw</td>\n",
       "      <td>1</td>\n",
       "      <td>3</td>\n",
       "      <td>43</td>\n",
       "      <td>1</td>\n",
       "      <td>11</td>\n",
       "      <td>0.325581</td>\n",
       "      <td>14</td>\n",
       "      <td>0</td>\n",
       "    </tr>\n",
       "  </tbody>\n",
       "</table>\n",
       "</div>"
      ],
      "text/plain": [
       "   Unnamed: 0                                             answer  \\\n",
       "0           0  destiny would be a good friend beacu like to r...   \n",
       "1           1  i think mr.popper would disagree because he wa...   \n",
       "2           2  i think that it has made me a better person be...   \n",
       "3           3  a part that i could not stop reading was when ...   \n",
       "4           4        its not as good as the any of the other one   \n",
       "\n",
       "                                       question_text  \\\n",
       "0  Would you enjoy being friends with the main ch...   \n",
       "1  Which character do you think would disagree wi...   \n",
       "2  Do you think reading this text has made you a ...   \n",
       "3  Tell us about one part of this book that total...   \n",
       "4  Does this book remind you of the last book you...   \n",
       "\n",
       "                      text_id  grade  score  length  nb_sentence  nb_words  \\\n",
       "0   AUTJfAnEIe5XGTq1jvkynEr-Q      3      7     103            1        21   \n",
       "1  BASEvlmqaEWAE9oL3mOT2KG9JQ      3      9     215            2        42   \n",
       "2  BASEAOH8j3w9WsZOxNQ9dzAUFQ      5      8     149            1        31   \n",
       "3   AUToHuz362h0RJY-hPa7O6MDw      3      9     146            1        30   \n",
       "4  BASEasfHPZhAW77njjMyzqLqOw      1      3      43            1        11   \n",
       "\n",
       "   richness  vocab_size  wordcommun  \n",
       "0  0.213592          22           0  \n",
       "1  0.120930          26           4  \n",
       "2  0.140940          21           5  \n",
       "3  0.150685          22           5  \n",
       "4  0.325581          14           0  "
      ]
     },
     "execution_count": 30,
     "metadata": {},
     "output_type": "execute_result"
    }
   ],
   "source": [
    "df.head()"
   ]
  },
  {
   "cell_type": "code",
   "execution_count": 44,
   "metadata": {},
   "outputs": [
    {
     "data": {
      "text/plain": [
       "RandomForestClassifier(min_samples_leaf=2, min_samples_split=8, n_estimators=40,\n",
       "                       random_state=1)"
      ]
     },
     "execution_count": 44,
     "metadata": {},
     "output_type": "execute_result"
    }
   ],
   "source": [
    "from sklearn.ensemble import RandomForestClassifier\n",
    "from sklearn.model_selection import GridSearchCV\n",
    "\n",
    "y = df.iloc[:,[5]]\n",
    "#X = df.iloc[:,[4,8,11]] #0,353 \n",
    "X = df.iloc[:,[4,6,7,8,9,10,11]] #0,386 => 0,395 w/ stemming\n",
    "\n",
    "params = {'min_samples_leaf':list(range(1,5)),'min_samples_split':list(range(2,10,2)),\n",
    "          'n_estimators':list(range(10,50,10))}\n",
    "\n",
    "clf_rf=RandomForestClassifier(random_state=1)\n",
    "clf_gs=GridSearchCV(clf_rf, params, scoring = 'accuracy', cv=5)\n",
    "clf_gs.fit(X, y)\n",
    "\n",
    "best_param = clf_gs.best_params_\n",
    "\n",
    "clf_rf1 = RandomForestClassifier(random_state=1,min_samples_leaf= best_param['min_samples_leaf'],min_samples_split=best_param['min_samples_split'], n_estimators=best_param['n_estimators'])\n",
    "clf_rf1.fit(X,y)"
   ]
  },
  {
   "cell_type": "code",
   "execution_count": 45,
   "metadata": {},
   "outputs": [
    {
     "name": "stdout",
     "output_type": "stream",
     "text": [
      "cross validation accuracy = 0.39533333333333337\n"
     ]
    }
   ],
   "source": [
    "scores_rf1 = cross_val_score(clf_rf1, X, y, scoring='accuracy', cv=5)\n",
    "print('cross validation accuracy =', np.mean(scores_rf1))\n"
   ]
  },
  {
   "cell_type": "markdown",
   "metadata": {},
   "source": [
    "## 7. RESULT INTERPRETATION\n",
    "Look at parameters, print or visualize predictions"
   ]
  },
  {
   "cell_type": "code",
   "execution_count": 33,
   "metadata": {},
   "outputs": [],
   "source": [
    "## CODE"
   ]
  },
  {
   "cell_type": "code",
   "execution_count": 34,
   "metadata": {},
   "outputs": [],
   "source": [
    "## Written interpretation. I think length helped the model but we could have better results by..\n"
   ]
  },
  {
   "cell_type": "markdown",
   "metadata": {},
   "source": [
    "## 8. Second interation improvement\n"
   ]
  },
  {
   "cell_type": "code",
   "execution_count": 35,
   "metadata": {},
   "outputs": [],
   "source": [
    "## NEW FEATURE ENGINEERING"
   ]
  },
  {
   "cell_type": "code",
   "execution_count": 36,
   "metadata": {},
   "outputs": [],
   "source": [
    "## NEW MODEL TRAINING"
   ]
  },
  {
   "cell_type": "code",
   "execution_count": 37,
   "metadata": {},
   "outputs": [],
   "source": [
    "## NEW PERFORMANCE ASSESMENT"
   ]
  }
 ],
 "metadata": {
  "kernelspec": {
   "display_name": "ml_week5",
   "language": "python",
   "name": "ml_week5"
  },
  "language_info": {
   "codemirror_mode": {
    "name": "ipython",
    "version": 3
   },
   "file_extension": ".py",
   "mimetype": "text/x-python",
   "name": "python",
   "nbconvert_exporter": "python",
   "pygments_lexer": "ipython3",
   "version": "3.7.7"
  }
 },
 "nbformat": 4,
 "nbformat_minor": 4
}
